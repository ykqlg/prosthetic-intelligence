{
 "cells": [
  {
   "cell_type": "code",
   "execution_count": 7,
   "metadata": {},
   "outputs": [
    {
     "name": "stdout",
     "output_type": "stream",
     "text": [
      "Number of being deleted: 0\n"
     ]
    }
   ],
   "source": [
    "import pandas as pd\n",
    "import os\n",
    "import numpy as np\n",
    "import csv\n",
    "\n",
    "# 根据标签文件的内容，清除./output文件夹中的无关文件\n",
    "def remove_files_not_in_label(tag_file, folder_path):\n",
    "    # 读取标签文件的第一列元素\n",
    "    with open(tag_file, 'r') as tag_csv:\n",
    "        tag_reader = csv.reader(tag_csv)\n",
    "        # 跳过第一行（列名称）\n",
    "        next(tag_reader)\n",
    "        tag_elements = [row[0] for row in tag_reader]\n",
    "    tag_elements = np.array(tag_elements)\n",
    "\n",
    "    # 获取文件夹中的所有文件名\n",
    "    folder_files = sorted(os.listdir(folder_path))\n",
    "    folder_files = np.array(folder_files)\n",
    "    # print('tag_elements:',tag_elements)\n",
    "    # print('folder_files:',folder_files)\n",
    "\n",
    "    count = 0\n",
    "    # 遍历文件夹中的文件名\n",
    "    for filename in folder_files:\n",
    "        # 检查文件名是否在标签文件的第一列元素中\n",
    "        if not any(filename in tag for tag in tag_elements):\n",
    "            # 构造文件的完整路径\n",
    "            file_path = os.path.join(folder_path, filename)\n",
    "\n",
    "            # 删除文件\n",
    "            os.remove(file_path)\n",
    "            print(f\"File '{file_path}' removed.\")\n",
    "            count += 1\n",
    "    \n",
    "    print('Number of being deleted:',count)\n",
    "\n",
    "tag_file_path = './label_file2.csv'\n",
    "folder_path = './output2/'\n",
    "remove_files_not_in_label(tag_file_path, folder_path)\n"
   ]
  },
  {
   "cell_type": "code",
   "execution_count": 8,
   "metadata": {},
   "outputs": [
    {
     "data": {
      "text/plain": [
       "(array([0, 1]), array([18, 53]))"
      ]
     },
     "execution_count": 8,
     "metadata": {},
     "output_type": "execute_result"
    }
   ],
   "source": [
    "df = pd.read_csv(tag_file_path)\n",
    "labels = df['Label']\n",
    "np.unique(labels,return_counts=True)"
   ]
  }
 ],
 "metadata": {
  "kernelspec": {
   "display_name": "Python 3",
   "language": "python",
   "name": "python3"
  },
  "language_info": {
   "codemirror_mode": {
    "name": "ipython",
    "version": 3
   },
   "file_extension": ".py",
   "mimetype": "text/x-python",
   "name": "python",
   "nbconvert_exporter": "python",
   "pygments_lexer": "ipython3",
   "version": "3.11.2"
  },
  "orig_nbformat": 4
 },
 "nbformat": 4,
 "nbformat_minor": 2
}
